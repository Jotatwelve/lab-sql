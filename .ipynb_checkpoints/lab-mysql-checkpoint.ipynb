{
 "cells": [
  {
   "cell_type": "code",
   "execution_count": null,
   "metadata": {},
   "outputs": [],
   "source": [
    "import os\n",
    "os.environ[\"GOOGLE_APPLICATION_CREDENTIALS\"]=\"/Users/JCasado/Desktop/IRONHACK/ironhack_service_account_big_query.json\""
   ]
  },
  {
   "cell_type": "code",
   "execution_count": null,
   "metadata": {},
   "outputs": [],
   "source": [
    "from google.cloud import bigquery"
   ]
  },
  {
   "cell_type": "code",
   "execution_count": null,
   "metadata": {},
   "outputs": [],
   "source": [
    "client = bigquery.Client()\n",
    "#nos deja hacer la conexion"
   ]
  },
  {
   "cell_type": "code",
   "execution_count": null,
   "metadata": {},
   "outputs": [],
   "source": [
    "creation_customers='''\n",
    "CREATE TABLE car_dealership.customers(\n",
    "customer_id STRING NOT NULL,\n",
    "name STRING NOT NULL,\n",
    "phone_number NUMERIC NOT NULL,\n",
    "email STRING,\n",
    "adress STRING,\n",
    "city STRING NOT NULL,\n",
    "state STRING,\n",
    "country STRING,\n",
    "zip_code NUMERIC)\n",
    "'''\n"
   ]
  },
  {
   "cell_type": "code",
   "execution_count": null,
   "metadata": {},
   "outputs": [],
   "source": [
    "query_job = client.query(query=creation_customers)\n",
    "query_job.to_dataframe()"
   ]
  },
  {
   "cell_type": "code",
   "execution_count": null,
   "metadata": {},
   "outputs": [],
   "source": [
    "describe_customers='''\n",
    "SELECT *\n",
    "FROM `ironhack-data-analytics-265219.car_dealership.customers`\n",
    "'''"
   ]
  },
  {
   "cell_type": "code",
   "execution_count": null,
   "metadata": {},
   "outputs": [],
   "source": [
    "query_job = client.query(query=describe_customers)\n",
    "query_job.to_dataframe()"
   ]
  },
  {
   "cell_type": "code",
   "execution_count": null,
   "metadata": {},
   "outputs": [],
   "source": [
    "#seeding data\n",
    "insert_query = '''\n",
    "INSERT INTO `ironhack-data-analytics-265219.car_dealership.customers`(customer_id, name, phone_number, email, adress, city, state, country, zip_code)\n",
    "VALUES (\"10001\", \"Pablo Picasso\", +34636176382, \"-\", \"Paseo de la Chopera, 14\", \"Madrid\", \"Madrid\", \"Spain\", 28045),\n",
    "        (\"20001\", \"Abraham Lincoln\", +13059077086, \"-\", \"120 SW 8th St\", \"Miami\", \"Florida\", \"United States\", 33130),\n",
    "        (\"30001\", \"Napoléon Bonaparte\", +33179754000, \"-\", \"40 Rue du Colisée\", \"Paris\", \"Île-de-France\", \"France\", 75008);\n",
    "'''\n",
    "query_job = client.query(query=insert_query)\n",
    "query_job.result()\n"
   ]
  },
  {
   "cell_type": "code",
   "execution_count": null,
   "metadata": {},
   "outputs": [],
   "source": [
    "update_query = '''\n",
    "\n",
    "UPDATE `ironhack-data-analytics-265219.car_dealership.salesperson`\n",
    "SET store = 'Miami'\n",
    "WHERE name='Paige Turner'\n",
    "\n",
    "UPDATE `ironhack-data-analytics-265219.car_dealership.customers`\n",
    "SET email='ppicasso@gmail.com'\n",
    "WHERE name='Pablo Picasso'\n",
    "\n",
    "UPDATE `ironhack-data-analytics-265219.car_dealership.customers`\n",
    "SET email='lincoln@us.gov'\n",
    "WHERE name='Abraham Lincoln'\n",
    "\n",
    "UPDATE `ironhack-data-analytics-265219.car_dealership.customers`\n",
    "SET email='hello@napoleon.me'\n",
    "WHERE name='Napoleón Bonaparte'\n",
    "\n",
    "\n",
    "\n",
    "'''"
   ]
  },
  {
   "cell_type": "code",
   "execution_count": null,
   "metadata": {},
   "outputs": [],
   "source": [
    "query_job = client.query(query=update_query)\n",
    "query_job.result()\n"
   ]
  },
  {
   "cell_type": "code",
   "execution_count": null,
   "metadata": {},
   "outputs": [],
   "source": [
    "delete_query = '''\n",
    "\n",
    "DELETE FROM `ironhack-data-analytics-265219.car_dealership.customers` \n",
    "WHERE customer_id = '10001'\n",
    "\n",
    "'''"
   ]
  },
  {
   "cell_type": "code",
   "execution_count": null,
   "metadata": {},
   "outputs": [],
   "source": [
    "query_job = client.query(query=delete_query)\n",
    "query_job.result()"
   ]
  },
  {
   "cell_type": "code",
   "execution_count": null,
   "metadata": {},
   "outputs": [],
   "source": []
  }
 ],
 "metadata": {
  "kernelspec": {
   "display_name": "Python 3",
   "language": "python",
   "name": "python3"
  },
  "language_info": {
   "codemirror_mode": {
    "name": "ipython",
    "version": 3
   },
   "file_extension": ".py",
   "mimetype": "text/x-python",
   "name": "python",
   "nbconvert_exporter": "python",
   "pygments_lexer": "ipython3",
   "version": "3.7.4"
  }
 },
 "nbformat": 4,
 "nbformat_minor": 2
}
